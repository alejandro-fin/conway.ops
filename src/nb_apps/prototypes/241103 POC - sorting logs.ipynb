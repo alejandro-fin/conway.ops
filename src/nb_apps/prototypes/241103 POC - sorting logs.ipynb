{
 "cells": [
  {
   "cell_type": "markdown",
   "id": "169bfbb1-ea53-407b-8f4c-6d9cd05be3e4",
   "metadata": {},
   "source": [
    "<h1 style=\"color:green\">POC - Sorting log files</h1>\n",
    "<p>As part of the introduction of asyncio in Conway, logs are no longer appearing in the order of algorithmic declaration,\n",
    "but in the order of execution, which can make it hard to read for situations like test cases</p>\n",
    "\n",
    "<p>To address that, in November 2024 a number of \"labels\" (to borrow the Grafana-like term) were added to the logs to record the ancestry of stack calls that lead to asyncio calls. This creates logs that are still \"unsorted\" (i.e., not in the order of algorithmic declaration), but which have enough context information (the \"labels\") to permit re-sorting them.</p>\n",
    "\n",
    "<p>This notebook was added to prototype such sorting.</p>"
   ]
  },
  {
   "cell_type": "code",
   "execution_count": 1,
   "id": "7ff27003-d88a-45e0-b930-1d72fc1da3a3",
   "metadata": {},
   "outputs": [
    {
     "name": "stdout",
     "output_type": "stream",
     "text": [
      "CONWAY installation:            \u001b[34m\u001b[7m    conway_fork    \u001b[0m\n",
      "Jupyter using repo[branch]:  \u001b[32m\u001b[7m    conway.ops[afin-dev]    \u001b[0m\n",
      "Installation path:           \u001b[34m\u001b[7m    /home/alex/consultant1@CCL/dev/conway_fork    \u001b[0m\n",
      "Application:                 \u001b[32m\u001b[7m    <class 'chassis_nb_application.Chassis_NB_Application'>    \u001b[0m\n"
     ]
    }
   ],
   "source": [
    "import os                                                               as _os\n",
    "import sys\n",
    "sys.path.append(_os.path.dirname(_os.getcwd())) # So we can import tvm_notebook_utils\n",
    "import chassis_nb_utils\n",
    "NBU                       = chassis_nb_utils.Chassis_NB_Utils()\n",
    "DFU                       = NBU.DFU\n",
    "T0                        = NBU.time.perf_counter()"
   ]
  },
  {
   "cell_type": "code",
   "execution_count": 2,
   "id": "cad7ddc2-2f7f-4231-9837-a8a02ad02066",
   "metadata": {},
   "outputs": [],
   "source": [
    "LOGS_FOLDER                = \"/var/log/ccl/consultant1@CCL/dev/conway_fork/ConwayTestApp\"\n",
    "LOG_FILE                   = \"241102.222513_ConwayTestApp.log\"\n",
    "LOG_PATH                   = f\"{LOGS_FOLDER}/{LOG_FILE}\"\n",
    "SCHEDULING_CONTEXT         = \"scheduling_context\""
   ]
  },
  {
   "cell_type": "code",
   "execution_count": 3,
   "id": "72168eba-81b8-4f46-ac6c-8dd87c492624",
   "metadata": {},
   "outputs": [],
   "source": [
    "import json as _json\n",
    "import re as _re"
   ]
  },
  {
   "cell_type": "code",
   "execution_count": 4,
   "id": "88d395ff-be48-4f08-900c-afe7b9bff6c3",
   "metadata": {},
   "outputs": [
    {
     "data": {
      "text/plain": [
       "40"
      ]
     },
     "execution_count": 4,
     "metadata": {},
     "output_type": "execute_result"
    }
   ],
   "source": [
    "# Open the file in read mode\n",
    "data_l = []\n",
    "with open(LOG_PATH, 'r') as file:\n",
    "    # Read the file line by line\n",
    "    for line in file:\n",
    "        data = _json.loads(line)\n",
    "        data_l.append(data)\n",
    "len(data_l)"
   ]
  },
  {
   "cell_type": "code",
   "execution_count": 5,
   "id": "4d2087ff-001a-4752-90a0-a60f45836361",
   "metadata": {},
   "outputs": [
    {
     "data": {
      "text/plain": [
       "conway.async_utils.schedule_based_log_sorter.ScheduleBasedLogSorter"
      ]
     },
     "execution_count": 5,
     "metadata": {},
     "output_type": "execute_result"
    }
   ],
   "source": [
    "sorter = NBU.ScheduleBasedLogSorter(data_l)\n",
    "type(sorter)"
   ]
  },
  {
   "cell_type": "code",
   "execution_count": 6,
   "id": "2cdd4b20-2858-44ed-a5ee-4e5c485854e4",
   "metadata": {},
   "outputs": [
    {
     "data": {
      "text/plain": [
       "50"
      ]
     },
     "execution_count": 6,
     "metadata": {},
     "output_type": "execute_result"
    }
   ],
   "source": [
    "result_l = sorter.sort()\n",
    "len(result_l)"
   ]
  },
  {
   "cell_type": "code",
   "execution_count": 7,
   "id": "92917852-8b3a-4756-98ee-74c2ede65703",
   "metadata": {},
   "outputs": [
    {
     "name": "stdout",
     "output_type": "stream",
     "text": [
      "[0.612 sec Not using an event loop - MainThread@test_project_creator:31]\t--------- Starting Test Scenario 8001 [round=0] ---------\n",
      "[1.787 sec Not using an event loop - MainThread@test_repo_setup:35]\t--------- Starting Test Scenario 8002 [round=0] ---------\n",
      "[2.266 sec Task-36 - MainThread@repo_manipulation_test_case:100]\n",
      "\t[2.822 sec Task-41 - MainThread@repo_manipulation_test_case:128]\tRemoved pre-existing repo 'scenario_8002.svc' so we can re-create it - response was null\n",
      "\t[4.543 sec Task-41 - MainThread@repo_manipulation_test_case:148]\tCreated repo 'scenario_8002.svc' with URL https://github.com/testrobot-ccl/scenario_8002.svc\n",
      "\t[5.029 sec Task-41 - MainThread@repo_manipulation_test_case:195]\tCreated 'integration' branch in 'scenario_8002.svc' with URL https://api.github.com/repos/testrobot-ccl/scenario_8002.svc/git/refs/heads/integration\n",
      "[2.273 sec Task-36 - MainThread@repo_manipulation_test_case:100]\n",
      "\t[2.772 sec Task-39 - MainThread@repo_manipulation_test_case:128]\tRemoved pre-existing repo 'scenario_8002.test' so we can re-create it - response was null\n",
      "\t[4.303 sec Task-39 - MainThread@repo_manipulation_test_case:148]\tCreated repo 'scenario_8002.test' with URL https://github.com/testrobot-ccl/scenario_8002.test\n",
      "\t[4.806 sec Task-39 - MainThread@repo_manipulation_test_case:195]\tCreated 'integration' branch in 'scenario_8002.test' with URL https://api.github.com/repos/testrobot-ccl/scenario_8002.test/git/refs/heads/integration\n",
      "[2.278 sec Task-36 - MainThread@repo_manipulation_test_case:100]\n",
      "\t[2.623 sec Task-38 - MainThread@repo_manipulation_test_case:128]\tRemoved pre-existing repo 'scenario_8002.scenarios' so we can re-create it - response was null\n",
      "\t[3.641 sec Task-38 - MainThread@repo_manipulation_test_case:148]\tCreated repo 'scenario_8002.scenarios' with URL https://github.com/testrobot-ccl/scenario_8002.scenarios\n",
      "\t[4.186 sec Task-38 - MainThread@repo_manipulation_test_case:195]\tCreated 'integration' branch in 'scenario_8002.scenarios' with URL https://api.github.com/repos/testrobot-ccl/scenario_8002.scenarios/git/refs/heads/integration\n",
      "[2.284 sec Task-36 - MainThread@repo_manipulation_test_case:100]\n",
      "\t[2.752 sec Task-42 - MainThread@repo_manipulation_test_case:128]\tRemoved pre-existing repo 'scenario_8002.ops' so we can re-create it - response was null\n",
      "\t[4.078 sec Task-42 - MainThread@repo_manipulation_test_case:148]\tCreated repo 'scenario_8002.ops' with URL https://github.com/testrobot-ccl/scenario_8002.ops\n",
      "\t[4.530 sec Task-42 - MainThread@repo_manipulation_test_case:195]\tCreated 'integration' branch in 'scenario_8002.ops' with URL https://api.github.com/repos/testrobot-ccl/scenario_8002.ops/git/refs/heads/integration\n",
      "[2.288 sec Task-36 - MainThread@repo_manipulation_test_case:100]\n",
      "\t[2.797 sec Task-40 - MainThread@repo_manipulation_test_case:128]\tRemoved pre-existing repo 'scenario_8002.docs' so we can re-create it - response was null\n",
      "\t[3.752 sec Task-40 - MainThread@repo_manipulation_test_case:148]\tCreated repo 'scenario_8002.docs' with URL https://github.com/testrobot-ccl/scenario_8002.docs\n",
      "\t[4.242 sec Task-40 - MainThread@repo_manipulation_test_case:195]\tCreated 'integration' branch in 'scenario_8002.docs' with URL https://api.github.com/repos/testrobot-ccl/scenario_8002.docs/git/refs/heads/integration\n",
      "[5.052 sec Task-36 - MainThread@repo_manipulation_test_case:106]\tList of remote repos re-created: ['scenario_8002.scenarios', 'scenario_8002.docs', 'scenario_8002.ops', 'scenario_8002.test', 'scenario_8002.svc']\n",
      "[5.080 sec Task-49 - MainThread@repo_setup:69]\tWill set up repos ['scenario_8002.svc', 'scenario_8002.test', 'scenario_8002.scenarios', 'scenario_8002.ops', 'scenario_8002.docs'] after applying filter None\n",
      "[5.101 sec Task-49 - MainThread@repo_setup:73]\n",
      "\t[6.132 sec Task-51 - MainThread@repo_setup:119]\t\t... cloned repo 'scenario_8002.svc' ...\n",
      "\t[9.548 sec Task-51 - MainThread@repo_setup:156]\t\t... created branches ['testrobot'] for repo 'scenario_8002.svc' ...\n",
      "\t[9.799 sec Task-51 - MainThread@repo_setup:159]\t\tConfiguring repo 'scenario_8002.svc' ... completed in 0.24 sec\n",
      "\t[9.805 sec Task-51 - MainThread@repo_setup:106]\tSetting up repo 'scenario_8002.svc' completed in 4.63 sec\n",
      "[5.120 sec Task-49 - MainThread@repo_setup:73]\n",
      "\t[6.155 sec Task-54 - MainThread@repo_setup:119]\t\t... cloned repo 'scenario_8002.test' ...\n",
      "\t[9.455 sec Task-54 - MainThread@repo_setup:156]\t\t... created branches ['testrobot'] for repo 'scenario_8002.test' ...\n",
      "\t[9.725 sec Task-54 - MainThread@repo_setup:159]\t\tConfiguring repo 'scenario_8002.test' ... completed in 0.23 sec\n",
      "\t[9.739 sec Task-54 - MainThread@repo_setup:106]\tSetting up repo 'scenario_8002.test' completed in 4.56 sec\n",
      "[5.135 sec Task-49 - MainThread@repo_setup:73]\n",
      "\t[6.075 sec Task-53 - MainThread@repo_setup:119]\t\t... cloned repo 'scenario_8002.scenarios' ...\n",
      "\t[9.426 sec Task-53 - MainThread@repo_setup:156]\t\t... created branches ['testrobot'] for repo 'scenario_8002.scenarios' ...\n",
      "\t[9.763 sec Task-53 - MainThread@repo_setup:159]\t\tConfiguring repo 'scenario_8002.scenarios' ... completed in 0.31 sec\n",
      "\t[9.772 sec Task-53 - MainThread@repo_setup:106]\tSetting up repo 'scenario_8002.scenarios' completed in 4.60 sec\n",
      "[5.145 sec Task-49 - MainThread@repo_setup:73]\n",
      "\t[6.104 sec Task-50 - MainThread@repo_setup:119]\t\t... cloned repo 'scenario_8002.ops' ...\n",
      "\t[9.563 sec Task-50 - MainThread@repo_setup:156]\t\t... created branches ['testrobot'] for repo 'scenario_8002.ops' ...\n",
      "\t[9.780 sec Task-50 - MainThread@repo_setup:159]\t\tConfiguring repo 'scenario_8002.ops' ... completed in 0.19 sec\n",
      "\t[9.792 sec Task-50 - MainThread@repo_setup:106]\tSetting up repo 'scenario_8002.ops' completed in 4.62 sec\n",
      "[5.159 sec Task-49 - MainThread@repo_setup:73]\n",
      "\t[6.042 sec Task-52 - MainThread@repo_setup:119]\t\t... cloned repo 'scenario_8002.docs' ...\n",
      "\t[9.493 sec Task-52 - MainThread@repo_setup:156]\t\t... created branches ['testrobot'] for repo 'scenario_8002.docs' ...\n",
      "\t[9.746 sec Task-52 - MainThread@repo_setup:159]\t\tConfiguring repo 'scenario_8002.docs' ... completed in 0.20 sec\n",
      "\t[9.758 sec Task-52 - MainThread@repo_setup:106]\tSetting up repo 'scenario_8002.docs' completed in 4.58 sec\n",
      "[11.266 sec Not using an event loop - MainThread@test_repo_setup:62]\tCreating branch report completed in 1.46 sec\n"
     ]
    }
   ],
   "source": [
    "for line in result_l:\n",
    "    print(line)"
   ]
  },
  {
   "cell_type": "code",
   "execution_count": null,
   "id": "13c9142a-11e9-46e0-a15a-58005b9bae14",
   "metadata": {},
   "outputs": [],
   "source": [
    "# Force stop of execution, lest we inadvertently run the deprecated cells below\n",
    "assert(False)"
   ]
  },
  {
   "cell_type": "markdown",
   "id": "6bf744b5-5013-4f57-b720-c98332d073be",
   "metadata": {},
   "source": [
    "<h1>DEPRECATED</h1>"
   ]
  },
  {
   "cell_type": "code",
   "execution_count": 74,
   "id": "6ac196ec-fe0f-4fbd-b839-303f28a1e4b4",
   "metadata": {},
   "outputs": [
    {
     "data": {
      "text/plain": [
       "([{'message': \"Created 'integration' branch in 'scenario_8002.scenarios' with URL https://api.github.com/repos/testrobot-ccl/scenario_8002.scenarios/git/refs/heads/integration\",\n",
       "   'labels': {'scheduling_context': {'timestamp': '2.278 sec',\n",
       "     'thread': 'MainThread',\n",
       "     'task': 'Task-36',\n",
       "     'source': 'repo_manipulation_test_case:100'},\n",
       "    'timestamp': '4.186 sec',\n",
       "    'thread': 'MainThread',\n",
       "    'task': 'Task-38',\n",
       "    'source': 'repo_manipulation_test_case:195'}},\n",
       "  {'message': \"Created 'integration' branch in 'scenario_8002.docs' with URL https://api.github.com/repos/testrobot-ccl/scenario_8002.docs/git/refs/heads/integration\",\n",
       "   'labels': {'scheduling_context': {'timestamp': '2.288 sec',\n",
       "     'thread': 'MainThread',\n",
       "     'task': 'Task-36',\n",
       "     'source': 'repo_manipulation_test_case:100'},\n",
       "    'timestamp': '4.242 sec',\n",
       "    'thread': 'MainThread',\n",
       "    'task': 'Task-40',\n",
       "    'source': 'repo_manipulation_test_case:195'}}],\n",
       " dict)"
      ]
     },
     "execution_count": 74,
     "metadata": {},
     "output_type": "execute_result"
    }
   ],
   "source": [
    "data_l[10:12], type(data_l[10])"
   ]
  },
  {
   "cell_type": "code",
   "execution_count": null,
   "id": "ab5d0d4d-41aa-41fa-9a19-c46631a21131",
   "metadata": {},
   "outputs": [],
   "source": []
  }
 ],
 "metadata": {
  "kernelspec": {
   "display_name": "Python 3 (ipykernel)",
   "language": "python",
   "name": "python3"
  },
  "language_info": {
   "codemirror_mode": {
    "name": "ipython",
    "version": 3
   },
   "file_extension": ".py",
   "mimetype": "text/x-python",
   "name": "python",
   "nbconvert_exporter": "python",
   "pygments_lexer": "ipython3",
   "version": "3.12.3"
  }
 },
 "nbformat": 4,
 "nbformat_minor": 5
}
